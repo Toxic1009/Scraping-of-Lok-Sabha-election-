{
  "nbformat": 4,
  "nbformat_minor": 0,
  "metadata": {
    "colab": {
      "provenance": []
    },
    "kernelspec": {
      "name": "python3",
      "display_name": "Python 3"
    },
    "language_info": {
      "name": "python"
    }
  },
  "cells": [
    {
      "cell_type": "code",
      "execution_count": 1,
      "metadata": {
        "id": "DGz7q8azp5Pp"
      },
      "outputs": [],
      "source": [
        "import bs4"
      ]
    },
    {
      "cell_type": "code",
      "source": [
        "import requests"
      ],
      "metadata": {
        "id": "7asEMY8oqd57"
      },
      "execution_count": 2,
      "outputs": []
    },
    {
      "cell_type": "code",
      "source": [
        "import requests\n",
        "from bs4 import BeautifulSoup\n",
        "\n",
        "# Fetch the website content\n",
        "url = \"https://results.eci.gov.in/\"\n",
        "response = requests.get(url)\n",
        "response.raise_for_status()  # Check for any HTTP errors\n",
        "\n",
        "# Parse the HTML content\n",
        "soup = BeautifulSoup(response.content, 'html.parser')\n",
        "\n",
        "# Extract key insights\n",
        "insights = []\n",
        "\n",
        "# 1. Total Parliamentary Constituencies\n",
        "element = soup.find('div', class_='state-item blue-bg pc-wrap').find('h1')\n",
        "insights.append(f\"Total Parliamentary Constituencies: {element.text.strip() if element else 'Not found'}\")\n",
        "\n",
        "# 2. Andhra Pradesh Details\n",
        "element = soup.find('div', class_='state-item olive-bg')\n",
        "if element:\n",
        "    insights.append(f\"Andhra Pradesh - {element.find('h2').text.strip()}: {element.find('h1').text.strip()}\")\n",
        "\n",
        "# 3. Odisha Details\n",
        "element = soup.find('div', class_='state-item pine-bg')\n",
        "if element:\n",
        "    insights.append(f\"Odisha - {element.find('h2').text.strip()}: {element.find('h1').text.strip()}\")\n",
        "\n",
        "# 4. Bye Elections Details\n",
        "element = soup.find('div', class_='state-item gry-bg')\n",
        "if element:\n",
        "    insights.append(f\"Bye Elections - {element.find('h2').text.strip()}: {element.find('h1').text.strip()}\")\n",
        "\n",
        "\n",
        "\n",
        "\n",
        "\n",
        "\n",
        "element = soup.find('div', class_='dis-info').find('p')\n",
        "insights.append(f\"Disclaimer: {element.text.strip() if element else 'Not found'}\")\n",
        "\n",
        "\n",
        "element = soup.find_all('li')[0].find('a')\n",
        "insights.append(f\"Android App Link: {element['href'].strip() if element else 'Not found'}\")\n",
        "\n",
        "\n",
        "element = soup.find_all('li')[1].find('a')\n",
        "insights.append(f\"iOS App Link: {element['href'].strip() if element else 'Not found'}\")\n",
        "\n",
        "insights.append(f\"Page Title: {soup.find('title').text.strip() if soup.find('title') else 'Not found'}\")\n",
        "\n",
        "for insight in insights:\n",
        "    print(insight)"
      ],
      "metadata": {
        "colab": {
          "base_uri": "https://localhost:8080/"
        },
        "id": "BuT90HPtqPrc",
        "outputId": "94a29b9b-1d22-4b66-81b2-1e0507ad43a6"
      },
      "execution_count": 3,
      "outputs": [
        {
          "output_type": "stream",
          "name": "stdout",
          "text": [
            "Total Parliamentary Constituencies: 543\n",
            "Andhra Pradesh - Andhra Pradesh: 175\n",
            "Odisha - Odisha: 147\n",
            "Bye Elections - Bye Elections: 25\n",
            "Disclaimer: ECI is displaying the information as being filled in the system by the Returning Officers from\r\n",
            "          their respective Counting Centres.The final data for each AC/PC will be shared in Form-20.\n",
            "Android App Link: https://play.google.com/store/apps/details?id=com.eci.citizen\n",
            "iOS App Link: https://apps.apple.com/in/app/voter-helpline/id1456535004\n",
            "Page Title: Election Commission of India\n"
          ]
        }
      ]
    }
  ]
}